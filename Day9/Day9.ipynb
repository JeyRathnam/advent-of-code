{
 "cells": [
  {
   "cell_type": "code",
   "execution_count": 1,
   "metadata": {},
   "outputs": [],
   "source": [
    "def xmasEncode(nums, windowSize):\n",
    "    start = 0\n",
    "    for x in nums[windowSize:]:\n",
    "        window = nums[start:windowSize]\n",
    "        if not twoSum(window, x):\n",
    "            return x\n",
    "        \n",
    "        start += 1\n",
    "        windowSize += 1\n",
    "    \n",
    "    \n",
    "def twoSum(nums, target):\n",
    "    memo = {}\n",
    "    \n",
    "    for x in nums:\n",
    "        comp = target - x\n",
    "        \n",
    "        if comp in memo:\n",
    "            return True\n",
    "        else:\n",
    "            memo[x] = x\n",
    "    return False"
   ]
  },
  {
   "cell_type": "code",
   "execution_count": 2,
   "metadata": {},
   "outputs": [
    {
     "name": "stdout",
     "output_type": "stream",
     "text": [
      "507622668\n",
      "3.002643585205078\n"
     ]
    }
   ],
   "source": [
    "import os\n",
    "import time\n",
    "start_time = time.time()\n",
    "fileName = \"input.txt\" \n",
    "with open(os.path.join(os.path.abspath(''), fileName), 'r') as file:\n",
    "    lines = file.read().splitlines()\n",
    "    lines = [int(x) for x in lines]\n",
    "    print(xmasEncode(lines, 25))\n",
    "print((time.time() - start_time) * 1000)"
   ]
  },
  {
   "cell_type": "code",
   "execution_count": 11,
   "metadata": {},
   "outputs": [],
   "source": [
    "def xmasEncode2(nums, target):\n",
    "    start, end = 0, 1\n",
    "    \n",
    "    while start <= len(nums) and end <= len(nums):\n",
    "        s = sum(nums[start:end])\n",
    "        \n",
    "        if s < target:\n",
    "            end += 1\n",
    "        elif s > target:\n",
    "            start += 1\n",
    "        else:\n",
    "            return nums[start:end]\n",
    "            return\n",
    "            \n",
    "        if start == end:\n",
    "            end = start    "
   ]
  },
  {
   "cell_type": "code",
   "execution_count": 13,
   "metadata": {},
   "outputs": [
    {
     "name": "stdout",
     "output_type": "stream",
     "text": [
      "507622668\n",
      "76688505\n",
      "4.998445510864258\n"
     ]
    }
   ],
   "source": [
    "import os\n",
    "import time\n",
    "start_time = time.time()\n",
    "fileName = \"input.txt\" \n",
    "with open(os.path.join(os.path.abspath(''), fileName), 'r') as file:\n",
    "    lines = file.read().splitlines()\n",
    "    lines = [int(x) for x in lines]\n",
    "    target = xmasEncode(lines, 25)\n",
    "    print(target)\n",
    "    s = xmasEncode2(lines, target)\n",
    "    print(max(s) + min(s))\n",
    "print((time.time() - start_time) * 1000)"
   ]
  }
 ],
 "metadata": {
  "kernelspec": {
   "display_name": "Python 3",
   "language": "python",
   "name": "python3"
  },
  "language_info": {
   "codemirror_mode": {
    "name": "ipython",
    "version": 3
   },
   "file_extension": ".py",
   "mimetype": "text/x-python",
   "name": "python",
   "nbconvert_exporter": "python",
   "pygments_lexer": "ipython3",
   "version": "3.8.5"
  }
 },
 "nbformat": 4,
 "nbformat_minor": 4
}
