{
 "cells": [
  {
   "cell_type": "code",
   "execution_count": 17,
   "metadata": {},
   "outputs": [],
   "source": [
    "import os \n",
    "def customCustoms(fileName):\n",
    "    with open(os.path.join(os.path.abspath(''), fileName), 'r') as file:\n",
    "        lines = file.read().splitlines()\n",
    "        chars = []\n",
    "        i = 0\n",
    "        count = 0\n",
    "        for line in lines:\n",
    "            if line != \"\":\n",
    "                lineChars = list(line)\n",
    "                for c in lineChars:\n",
    "                    if c not in chars:\n",
    "                        chars.append(c)\n",
    "            else:\n",
    "                count += len(chars)\n",
    "                chars = []\n",
    "        count += len(chars)\n",
    "        return count"
   ]
  },
  {
   "cell_type": "code",
   "execution_count": 69,
   "metadata": {},
   "outputs": [
    {
     "data": {
      "text/plain": [
       "11"
      ]
     },
     "execution_count": 69,
     "metadata": {},
     "output_type": "execute_result"
    }
   ],
   "source": [
    "customCustoms(\"sample.txt\")\n",
    "customCustoms(\"input.txt\")"
   ]
  },
  {
   "cell_type": "code",
   "execution_count": 89,
   "metadata": {},
   "outputs": [
    {
     "name": "stdout",
     "output_type": "stream",
     "text": [
      "['a', 'b']\n",
      "['a', 'c']\n",
      "[]\n",
      "set()\n"
     ]
    }
   ],
   "source": [
    "a = ['a']\n",
    "b = ['b']\n",
    "c = ['c']\n",
    "x = list(set(a).intersection(b))\n",
    "\n",
    "list(set(x).intersection(c))\n",
    "\n",
    "a = [\n",
    "    'a',\n",
    "    'ab',\n",
    "    'ac',\n",
    "    ''\n",
    "]\n",
    "\n",
    "result = set(list(a[0]))\n",
    "\n",
    "for s in a[1:]:\n",
    "    print(list(s))\n",
    "    result.intersection_update(list(s))\n",
    "print(result)"
   ]
  },
  {
   "cell_type": "code",
   "execution_count": 103,
   "metadata": {},
   "outputs": [],
   "source": [
    "import os \n",
    "def customCustoms2(fileName):\n",
    "    with open(os.path.join(os.path.abspath(''), fileName), 'r') as file:\n",
    "        lines = file.read().splitlines()\n",
    "        charSets = []\n",
    "        count = 0\n",
    "        for line in lines:\n",
    "            if line != \"\":\n",
    "                charSets.append(line)\n",
    "                continue\n",
    "            \n",
    "            result = set(list(charSets[0]))\n",
    "            for s in charSets[1:]:\n",
    "                result.intersection_update(list(s))\n",
    "            count += len(result)\n",
    "            charSets = []\n",
    "        result = set(list(charSets[0]))\n",
    "        for s in charSets[1:]:\n",
    "            result.intersection_update(list(s))\n",
    "        count += len(result)\n",
    "        return count"
   ]
  },
  {
   "cell_type": "code",
   "execution_count": 105,
   "metadata": {},
   "outputs": [
    {
     "data": {
      "text/plain": [
       "3323"
      ]
     },
     "execution_count": 105,
     "metadata": {},
     "output_type": "execute_result"
    }
   ],
   "source": [
    "# customCustoms2(\"sample2.txt\")\n",
    "customCustoms2(\"input.txt\")"
   ]
  },
  {
   "cell_type": "code",
   "execution_count": 117,
   "metadata": {},
   "outputs": [
    {
     "name": "stdout",
     "output_type": "stream",
     "text": [
      "\n",
      "a\n",
      "au\n"
     ]
    },
    {
     "data": {
      "text/plain": [
       "2"
      ]
     },
     "execution_count": 117,
     "metadata": {},
     "output_type": "execute_result"
    }
   ],
   "source": [
    "a = ' '\n",
    "# print(len(a[0:0]))\n",
    "len(a[0:0]) == len(set(a[0:0]))\n",
    "\n",
    "\n",
    "def isUnique(s: str):\n",
    "        return len(s) == len(set(s)) \n",
    "def lengthOfLongestSubstring(s: str) -> int:\n",
    "    if len(s) <= 1:\n",
    "        return len(s)\n",
    "    start = 0\n",
    "    end = 0\n",
    "    maxCount = 0\n",
    "    while start <= len(s) and end <= len(s):\n",
    "        if isUnique(s[start:end]):\n",
    "            print(s[start:end])\n",
    "            maxCount = max(maxCount, len(s[start:end]))\n",
    "            end += 1\n",
    "        else:\n",
    "            start += 1\n",
    "            end = start\n",
    "    return maxCount\n",
    "\n",
    "lengthOfLongestSubstring(\"au\")"
   ]
  },
  {
   "cell_type": "code",
   "execution_count": 120,
   "metadata": {},
   "outputs": [
    {
     "data": {
      "text/plain": [
       "-1"
      ]
     },
     "execution_count": 120,
     "metadata": {},
     "output_type": "execute_result"
    }
   ],
   "source": [
    "a = \"-1\"\n",
    "int(a)"
   ]
  }
 ],
 "metadata": {
  "kernelspec": {
   "display_name": "Python 3",
   "language": "python",
   "name": "python3"
  },
  "language_info": {
   "codemirror_mode": {
    "name": "ipython",
    "version": 3
   },
   "file_extension": ".py",
   "mimetype": "text/x-python",
   "name": "python",
   "nbconvert_exporter": "python",
   "pygments_lexer": "ipython3",
   "version": "3.8.5"
  }
 },
 "nbformat": 4,
 "nbformat_minor": 4
}
