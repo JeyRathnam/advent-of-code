{
 "cells": [
  {
   "cell_type": "code",
   "execution_count": 117,
   "metadata": {},
   "outputs": [],
   "source": [
    "import os \n",
    "def countTrees(fileName, right, down):\n",
    "    with open(os.path.join(os.path.abspath(''), fileName), 'r') as file:\n",
    "        pos = 0\n",
    "        lines = file.readlines()\n",
    "        x = 0\n",
    "        count = 0\n",
    "\n",
    "        while x < len(lines) - 1:\n",
    "            pos += right\n",
    "            x += down\n",
    "            if pos >= len(lines[x]) - 1:\n",
    "                pos = pos - (len(lines[x]) - 1)\n",
    "            if lines[x][pos] == '#':\n",
    "                n = list(lines[x])\n",
    "                n[pos] = \"@\"\n",
    "#                 print(\"\".join(n))\n",
    "                count += 1\n",
    "#             else:\n",
    "#                 print(lines[x])\n",
    "        return count"
   ]
  },
  {
   "cell_type": "code",
   "execution_count": 119,
   "metadata": {},
   "outputs": [
    {
     "name": "stdout",
     "output_type": "stream",
     "text": [
      "257\n"
     ]
    }
   ],
   "source": [
    "# print(countTrees(\"input.txt\"))\n",
    "print(countTrees(\"finalInput.txt\", 3, 1))"
   ]
  },
  {
   "cell_type": "code",
   "execution_count": 120,
   "metadata": {},
   "outputs": [
    {
     "data": {
      "text/plain": [
       "1744787392"
      ]
     },
     "execution_count": 120,
     "metadata": {},
     "output_type": "execute_result"
    }
   ],
   "source": [
    "# sub problem 2\n",
    "countTrees(\"finalInput.txt\", 1, 1) * countTrees(\"finalInput.txt\", 3, 1) * countTrees(\"finalInput.txt\", 5, 1) * countTrees(\"finalInput.txt\", 7, 1) * countTrees(\"finalInput.txt\", 1, 2)"
   ]
  }
 ],
 "metadata": {
  "kernelspec": {
   "display_name": "Python 3",
   "language": "python",
   "name": "python3"
  },
  "language_info": {
   "codemirror_mode": {
    "name": "ipython",
    "version": 3
   },
   "file_extension": ".py",
   "mimetype": "text/x-python",
   "name": "python",
   "nbconvert_exporter": "python",
   "pygments_lexer": "ipython3",
   "version": "3.8.5"
  }
 },
 "nbformat": 4,
 "nbformat_minor": 4
}
