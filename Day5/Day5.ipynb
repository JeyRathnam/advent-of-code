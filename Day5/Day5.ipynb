{
 "cells": [
  {
   "cell_type": "code",
   "execution_count": 17,
   "metadata": {},
   "outputs": [],
   "source": [
    "def binaryBoarding(s):\n",
    "    start = 0\n",
    "    end = 127\n",
    "    for c in s[:7]:\n",
    "        if c == \"F\":\n",
    "            end = (start + end) // 2 \n",
    "        else:\n",
    "            start = (start + end) // 2\n",
    "\n",
    "    seatStart = 0\n",
    "    seatEnd = 7\n",
    "\n",
    "    for c in s[7:]:\n",
    "        if c == \"L\":\n",
    "            seatEnd = (seatStart + seatEnd) // 2 \n",
    "        else:\n",
    "            seatStart = (seatStart + seatEnd) // 2\n",
    "\n",
    "\n",
    "    return end * 8 + seatEnd"
   ]
  },
  {
   "cell_type": "code",
   "execution_count": 31,
   "metadata": {},
   "outputs": [],
   "source": [
    "import os \n",
    "def maxBoardPass(fileName):\n",
    "    with open(os.path.join(os.path.abspath(''), fileName), 'r') as file:\n",
    "        maxSeat = 0\n",
    "        lines = file.read().splitlines()\n",
    "        seats = []\n",
    "        for line in lines:\n",
    "            seat = binaryBoarding(line)\n",
    "            seats.append(seat)\n",
    "            maxSeat = max(maxSeat, seat)\n",
    "        seats.sort()\n",
    "        \n",
    "        missingSeat = [x for x in range(seats[0], seats[-1]+1)  \n",
    "                               if x not in seats]\n",
    "        \n",
    "    return {'max' : maxSeat, 'missingSeat' : missingSeat}"
   ]
  },
  {
   "cell_type": "code",
   "execution_count": 32,
   "metadata": {},
   "outputs": [
    {
     "data": {
      "text/plain": [
       "{'max': 832, 'missingSeat': [517]}"
      ]
     },
     "execution_count": 32,
     "metadata": {},
     "output_type": "execute_result"
    }
   ],
   "source": [
    "maxBoardPass(\"input.txt\")"
   ]
  }
 ],
 "metadata": {
  "kernelspec": {
   "display_name": "Python 3",
   "language": "python",
   "name": "python3"
  },
  "language_info": {
   "codemirror_mode": {
    "name": "ipython",
    "version": 3
   },
   "file_extension": ".py",
   "mimetype": "text/x-python",
   "name": "python",
   "nbconvert_exporter": "python",
   "pygments_lexer": "ipython3",
   "version": "3.8.5"
  }
 },
 "nbformat": 4,
 "nbformat_minor": 4
}
