{
 "cells": [
  {
   "cell_type": "code",
   "execution_count": 41,
   "metadata": {},
   "outputs": [],
   "source": [
    "\"\"\"\n",
    "Password policy matching\n",
    "\n",
    "1-3 a: abcde\n",
    "1-3 b: cdefg\n",
    "2-9 c: ccccccccc\n",
    "\n",
    "\"\"\"\n",
    "import os\n",
    "\n",
    "def breakInput(input):\n",
    "    input = input.split(' ')\n",
    "    \n",
    "    bound = input[0].split('-')\n",
    "    char = input[1][0]\n",
    "    password = input[2]\n",
    "    \n",
    "    return (bound, char, password)\n",
    "    \n",
    "    \n",
    "\n",
    "def isValidPassword(input):\n",
    "    (bound, char, password) = breakInput(input)\n",
    "    charCount = {}\n",
    "    \n",
    "    for c in password:\n",
    "        if c in charCount:\n",
    "            charCount[c] += 1\n",
    "        else:\n",
    "            charCount[c] = 1\n",
    "    \n",
    "    if char not in charCount:\n",
    "        return False\n",
    "\n",
    "    \n",
    "    lowerBound = int(bound[0])\n",
    "    upperBound = int(bound[1])\n",
    "    \n",
    "    if charCount[char] >= lowerBound and charCount[char] <= upperBound:\n",
    "        return True\n",
    "    else:\n",
    "        return False\n",
    "    \n",
    "def checkPasswords(arr):\n",
    "    count = 0\n",
    "    for password in arr:\n",
    "        if isValidPassword(password):\n",
    "            count += 1\n",
    "    return count"
   ]
  },
  {
   "cell_type": "code",
   "execution_count": 71,
   "metadata": {},
   "outputs": [],
   "source": [
    "def isValidPassword2(positions, searchChar, password):\n",
    "#     print((positions, searchChar, password))\n",
    "    isPositionFound = False\n",
    "    for pos in positions:\n",
    "        pos = int(pos)\n",
    "        if pos <= len(password) and password[pos-1] == searchChar:\n",
    "            if isPositionFound:\n",
    "                return False\n",
    "            else:\n",
    "                isPositionFound = True\n",
    "    if isPositionFound:\n",
    "        return True\n",
    "    else:\n",
    "        return False\n",
    "        "
   ]
  },
  {
   "cell_type": "code",
   "execution_count": 68,
   "metadata": {},
   "outputs": [
    {
     "name": "stdout",
     "output_type": "stream",
     "text": [
      "(['2', '9'], 'c', 'ccccccccc')\n",
      "False\n"
     ]
    }
   ],
   "source": [
    "input = \"1-3 a: abcde\"\n",
    "input2 = \"1-3 b: cdefg\"\n",
    "input3 = \"2-9 c: ccccccccc\"\n",
    "# (bound, char, password) = breakInput(input)\n",
    "# print(isValidPassword2(bound, char, password))\n",
    "\n",
    "# (bound, char, password) = breakInput(input2)\n",
    "# print(isValidPassword2(bound, char, password))\n",
    "\n",
    "(bound, char, password) = breakInput(input3)\n",
    "print(isValidPassword2(bound, char, password))"
   ]
  },
  {
   "cell_type": "code",
   "execution_count": 73,
   "metadata": {},
   "outputs": [],
   "source": [
    "def checkPasswords2(lines):\n",
    "    count = 0\n",
    "    for input in lines:\n",
    "        (bound, char, password) = breakInput(input)\n",
    "        if isValidPassword2(bound, char, password):\n",
    "            count += 1\n",
    "    return count"
   ]
  },
  {
   "cell_type": "code",
   "execution_count": 74,
   "metadata": {},
   "outputs": [
    {
     "name": "stdout",
     "output_type": "stream",
     "text": [
      "500\n",
      "313\n"
     ]
    }
   ],
   "source": [
    "with open(os.path.join(os.path.abspath('Day2'),\"input.txt\"), 'r') as file:\n",
    "    lines = file.readlines()\n",
    "    print(checkPasswords(lines))\n",
    "    print(checkPasswords2(lines))"
   ]
  }
 ],
 "metadata": {
  "kernelspec": {
   "display_name": "Python 3",
   "language": "python",
   "name": "python3"
  },
  "language_info": {
   "codemirror_mode": {
    "name": "ipython",
    "version": 3
   },
   "file_extension": ".py",
   "mimetype": "text/x-python",
   "name": "python",
   "nbconvert_exporter": "python",
   "pygments_lexer": "ipython3",
   "version": "3.8.5"
  }
 },
 "nbformat": 4,
 "nbformat_minor": 4
}
