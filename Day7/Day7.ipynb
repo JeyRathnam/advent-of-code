{
 "cells": [
  {
   "cell_type": "code",
   "execution_count": 38,
   "metadata": {},
   "outputs": [
    {
     "name": "stdout",
     "output_type": "stream",
     "text": [
      "246\n"
     ]
    }
   ],
   "source": [
    "def clean(input):\n",
    "    input = input.replace(\"bags\", \"\").strip()\n",
    "    input = input.replace(\".\", \"\")\n",
    "    return input.replace(\"bag\", \"\").strip()\n",
    "\n",
    "def getCleanLine(input):\n",
    "    input = input.split(\"contain\")\n",
    "    container = clean(input[0])\n",
    "    contained = []\n",
    "    for bag in input[1].split(','):\n",
    "        bag = clean(bag)\n",
    "        if bag != \"no other\":\n",
    "            contained.append(clean(bag))\n",
    "    return (container, contained)\n",
    "\n",
    "\n",
    "import os \n",
    "def handyHaversacks(fileName):\n",
    "    with open(os.path.join(os.path.abspath(''), fileName), 'r') as file:\n",
    "        lines = file.read().splitlines()\n",
    "        chars = []\n",
    "        containerBags = {}\n",
    "        \n",
    "        for line in lines:\n",
    "            cleanLine = getCleanLine(line)\n",
    "            for bag in cleanLine[1]:\n",
    "                key = bag.split(\" \", 1)[1].strip()\n",
    "                if key in containerBags:\n",
    "                    containerBags[key].append(cleanLine[0])\n",
    "                else:\n",
    "                    containerBags[key] = [cleanLine[0]]\n",
    "        return containerBags\n",
    "    \n",
    "def checkContainerBags(containerBags, target, res):\n",
    "    if target in containerBags:\n",
    "        for x in containerBags[target]:\n",
    "            res.append(x)\n",
    "            checkContainerBags(containerBags, x, res)\n",
    "\n",
    "containers = handyHaversacks(\"input.txt\")\n",
    "res = []\n",
    "checkContainerBags(containers, \"shiny gold\", res)\n",
    "\n",
    "print(len(set(res)))\n",
    "\n",
    "# handyHaversacks(\"sample.txt\")"
   ]
  },
  {
   "cell_type": "code",
   "execution_count": 39,
   "metadata": {},
   "outputs": [
    {
     "data": {
      "text/plain": [
       "'reg bag'"
      ]
     },
     "execution_count": 39,
     "metadata": {},
     "output_type": "execute_result"
    }
   ],
   "source": [
    "a = \"1 reg bag\"\n",
    "a.split(\" \", 1)[1]"
   ]
  },
  {
   "cell_type": "code",
   "execution_count": 81,
   "metadata": {},
   "outputs": [
    {
     "data": {
      "text/plain": [
       "2976"
      ]
     },
     "execution_count": 81,
     "metadata": {},
     "output_type": "execute_result"
    }
   ],
   "source": [
    "import os\n",
    "import pprint\n",
    "\n",
    "def clean(input):\n",
    "    input = input.replace(\"bags\", \"\").strip()\n",
    "    input = input.replace(\".\", \"\")\n",
    "    return input.replace(\"bag\", \"\").strip()\n",
    "\n",
    "def getCleanLine(input):\n",
    "    input = input.split(\"contain\")\n",
    "    container = clean(input[0])\n",
    "    contained = []\n",
    "    for bag in input[1].split(','):\n",
    "        bag = clean(bag)\n",
    "        if bag != \"no other\":\n",
    "            contained.append(clean(bag))\n",
    "    return (container, contained)\n",
    "\n",
    "\n",
    "def handyHaversacks(fileName):\n",
    "    with open(os.path.join(os.path.abspath(''), fileName), 'r') as file:\n",
    "        lines = file.read().splitlines()\n",
    "        chars = []\n",
    "        containerBags = {}\n",
    "        \n",
    "        for line in lines:\n",
    "            cleanLine = getCleanLine(line)\n",
    "            bagName = cleanLine[0]\n",
    "            containingBags = cleanLine[1]\n",
    "        \n",
    "            containerBags[bagName] = {}\n",
    "            for bag in containingBags:\n",
    "                split = bag.split(\" \", 1)\n",
    "                containerBags[bagName][split[1]] = split[0]\n",
    "        return containerBags\n",
    "    \n",
    "\"\"\"\n",
    "shiny bags = 3\n",
    "dark olive = 7\n",
    "vibrant plum = 2 * 11\n",
    "\n",
    "sum = 32\n",
    "\"\"\"\n",
    "def handyHaversacks2(containerBags, target):\n",
    "    if target in containerBags and len(containerBags[target]) > 0:\n",
    "        total = 0\n",
    "        for bag in containerBags[target]:\n",
    "            bagCount = int(containerBags[target][bag])\n",
    "            total += bagCount + bagCount * handyHaversacks2(containerBags, bag)\n",
    "        return total\n",
    "    else:\n",
    "        return 0\n",
    "    \n",
    "containers = handyHaversacks(\"input.txt\")\n",
    "count = 0\n",
    "handyHaversacks2(containers, \"shiny gold\")\n",
    "\n",
    "        \n",
    "    "
   ]
  }
 ],
 "metadata": {
  "kernelspec": {
   "display_name": "Python 3",
   "language": "python",
   "name": "python3"
  },
  "language_info": {
   "codemirror_mode": {
    "name": "ipython",
    "version": 3
   },
   "file_extension": ".py",
   "mimetype": "text/x-python",
   "name": "python",
   "nbconvert_exporter": "python",
   "pygments_lexer": "ipython3",
   "version": "3.8.5"
  }
 },
 "nbformat": 4,
 "nbformat_minor": 4
}
