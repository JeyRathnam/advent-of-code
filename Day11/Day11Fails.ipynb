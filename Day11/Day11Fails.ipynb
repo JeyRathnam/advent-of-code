{
 "cells": [
  {
   "cell_type": "code",
   "execution_count": 90,
   "metadata": {},
   "outputs": [
    {
     "name": "stdout",
     "output_type": "stream",
     "text": [
      "2355\n"
     ]
    }
   ],
   "source": [
    "import os\n",
    "import time\n",
    "\n",
    "fileName = \"input.txt\" \n",
    "with open(os.path.join(os.path.abspath(''), fileName), 'r') as file:\n",
    "    lines = file.read().splitlines()\n",
    "    count = 0\n",
    "    inp = lines\n",
    "    opt = []\n",
    "    while True:\n",
    "        occCount, opt = seatingSystem(inp)\n",
    "#         print(occCount)\n",
    "        if opt == inp:\n",
    "            break\n",
    "        else:\n",
    "            inp = opt\n",
    "#         for x in opt:\n",
    "#             for y in x:\n",
    "#                 print(y, end=\"\")\n",
    "#             print(\"\")\n",
    "    print(occCount)"
   ]
  },
  {
   "cell_type": "code",
   "execution_count": 72,
   "metadata": {},
   "outputs": [],
   "source": [
    "def seatingSystem(lines):\n",
    "    op = []\n",
    "    c = 0\n",
    "    op = lines.clone()\n",
    "    for x in range(len(lines)):\n",
    "        for y in range(len(lines[x])):\n",
    "            if lines[x][y] == \"L\":\n",
    "                occCount = checkSeat(lines, x, y)\n",
    "                if occCount == 0:\n",
    "                    op[x][y] = \"#\"\n",
    "                    c += 1\n",
    "                else:\n",
    "                    op[x][y] = \"L\"\n",
    "            elif lines[x][y] == \"#\":\n",
    "                occCount = checkSeat(lines, x, y)\n",
    "                if occCount >= 4:\n",
    "                    op[x][y] = \"L\"\n",
    "                else:\n",
    "                    op[x][y] = \"#\"\n",
    "                    c += 1\n",
    "    return (c, op)"
   ]
  },
  {
   "cell_type": "code",
   "execution_count": 91,
   "metadata": {},
   "outputs": [],
   "source": [
    "def checkSeat(seats, x, y):\n",
    "    if x > len(seats[0]) or y > len(seats):\n",
    "        return\n",
    "\n",
    "    occoupiedCount = 0\n",
    "    emptyCount = 0\n",
    "    #left\n",
    "    if x - 1 >= 0:\n",
    "        if seats[x-1][y] == \"L\":\n",
    "            emptyCount += 1\n",
    "        elif seats[x-1][y] == \"#\":\n",
    "            occoupiedCount += 1\n",
    "    #top left\n",
    "    if x-1 >=0 and y-1 >= 0:\n",
    "        if seats[x-1][y-1] == \"L\":\n",
    "            emptyCount += 1\n",
    "        elif seats[x-1][y-1] == \"#\":\n",
    "            occoupiedCount += 1\n",
    "    \n",
    "    #top\n",
    "    if y-1 >= 0:\n",
    "        if seats[x][y-1] == \"L\":\n",
    "            emptyCount += 1\n",
    "        elif seats[x][y-1] == \"#\":\n",
    "            occoupiedCount += 1\n",
    "    \n",
    "    #top right\n",
    "    if x-1 >= 0 and y+1 < len(seats[0]):\n",
    "        if seats[x-1][y+1] == \"L\":\n",
    "            emptyCount += 1\n",
    "        elif seats[x-1][y+1] == \"#\":\n",
    "            occoupiedCount += 1\n",
    "            \n",
    "    #right\n",
    "    if x+1 < len(seats):\n",
    "        if seats[x+1][y] == \"L\":\n",
    "            emptyCount += 1\n",
    "        elif seats[x+1][y] == \"#\":\n",
    "            occoupiedCount += 1\n",
    "            \n",
    "    #bottom right\n",
    "    if x+1 < len(seats) and y+1 < len(seats[0]):\n",
    "        if seats[x+1][y+1] == \"L\":\n",
    "            emptyCount += 1\n",
    "        elif seats[x+1][y+1] == \"#\":\n",
    "            occoupiedCount += 1\n",
    "            \n",
    "    #bottom\n",
    "    if y+1 < len(seats[0]):\n",
    "        if seats[x][y+1] == \"L\":\n",
    "            emptyCount += 1\n",
    "        elif seats[x][y+1] == \"#\":\n",
    "            occoupiedCount += 1\n",
    "            \n",
    "    #bottom left\n",
    "    if x+1 < len(seats) and y-1 >= 0:\n",
    "        if seats[x+1][y-1] == \"L\":\n",
    "            emptyCount += 1\n",
    "        elif seats[x+1][y-1] == \"#\":\n",
    "            occoupiedCount += 1\n",
    "    \n",
    "    return occoupiedCount"
   ]
  },
  {
   "cell_type": "code",
   "execution_count": 113,
   "metadata": {},
   "outputs": [
    {
     "name": "stdout",
     "output_type": "stream",
     "text": [
      "NnOKpIoAzxyB\n",
      "AaBxcvbnmklo\n"
     ]
    }
   ],
   "source": [
    "chars = \"ABCDEFGHIJKLMNOPQRSTUVWXYZabcdefghijklmnopqrstuvwxyz\"\n",
    "s = \"AaBxcvbnmklo\"\n",
    "rot13 = \"\"\n",
    "for c in s:\n",
    "    pos = chars.find(c)\n",
    "    rot13 += chars[(pos + 13) % len(chars)]\n",
    "\n",
    "print(rot13)\n",
    "originalString = \"\"\n",
    "for c in rot13:\n",
    "    pos = chars.find(c) - 13\n",
    "    if pos < 0:\n",
    "        pos = len(chars) + pos\n",
    "    originalString += chars[pos]\n",
    "    \n",
    "print(originalString)"
   ]
  },
  {
   "cell_type": "code",
   "execution_count": 110,
   "metadata": {},
   "outputs": [
    {
     "data": {
      "text/plain": [
       "0"
      ]
     },
     "execution_count": 110,
     "metadata": {},
     "output_type": "execute_result"
    }
   ],
   "source": [
    "alpha = \"ABCDabcd\"\n",
    "\n",
    "alpha.find('A')"
   ]
  }
 ],
 "metadata": {
  "kernelspec": {
   "display_name": "Python 3",
   "language": "python",
   "name": "python3"
  },
  "language_info": {
   "codemirror_mode": {
    "name": "ipython",
    "version": 3
   },
   "file_extension": ".py",
   "mimetype": "text/x-python",
   "name": "python",
   "nbconvert_exporter": "python",
   "pygments_lexer": "ipython3",
   "version": "3.8.5"
  }
 },
 "nbformat": 4,
 "nbformat_minor": 4
}
