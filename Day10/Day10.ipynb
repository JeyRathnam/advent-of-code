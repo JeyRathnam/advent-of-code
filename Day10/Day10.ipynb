{
 "cells": [
  {
   "cell_type": "code",
   "execution_count": 49,
   "metadata": {},
   "outputs": [],
   "source": [
    "def adapterJolt(jolts, s, res, target):\n",
    "    adp = []\n",
    "    for i in range(s+1, s+4):\n",
    "        if i in jolts:\n",
    "            res[i-s] += 1\n",
    "            if i != target:           \n",
    "                return adapterJolt(jolts, i, res, target)\n",
    "            else:\n",
    "                return"
   ]
  },
  {
   "cell_type": "code",
   "execution_count": 9,
   "metadata": {},
   "outputs": [],
   "source": [
    "\"\"\"\n",
    "[16, 10, 15, 5, 1, 11, 7, 19, 6, 12, 4]\n",
    "\n",
    "[0, 1, 4, 5, 6, 7, 10, 11, 12, 15, 16, 19, 22]\n",
    "\n",
    "1 1 3 2 1 1 2 2 1 1 1 1\n",
    "\n",
    "\n",
    "1 1 1 1 2 1 1 3 2 1 1 1 \n",
    "\n",
    "\"\"\"\n",
    "\n",
    "def adpaterJoltNew(jolts, res):\n",
    "    jolts += [0, max(jolts) + 3]\n",
    "    jolts.sort()\n",
    "    for x in range(1, len(jolts)):\n",
    "        curr = jolts[x]\n",
    "        if curr - 1 == jolts[x-1]:\n",
    "            res[1] += 1\n",
    "        if curr - 3 == jolts[x-1]:\n",
    "            res[3] += 1\n",
    "    print(res)\n",
    "            \n",
    "        \n",
    "        \n",
    "            "
   ]
  },
  {
   "cell_type": "code",
   "execution_count": 50,
   "metadata": {},
   "outputs": [],
   "source": [
    "def adapterJolt2(jolts, s, res, target):\n",
    "    adp = []\n",
    "    for i in range(s+1, s+4):\n",
    "        if i in jolts:\n",
    "            if i == target:\n",
    "                res[0] += 1\n",
    "                return\n",
    "            else:\n",
    "                adapterJolt2(jolts, i, res, target)"
   ]
  },
  {
   "cell_type": "code",
   "execution_count": 4,
   "metadata": {},
   "outputs": [],
   "source": [
    "\"\"\"\n",
    "[16, 10, 15, 5, 1, 11, 7, 19, 6, 12, 4]\n",
    "\n",
    "[0, 1, 4, 5, 6, 7, 10, 11, 12, 15, 16, 19, 22]\n",
    "\n",
    "1 1 3 2 1 1 2 2 1 1 1 1\n",
    "\n",
    "\n",
    "1 1 1 1 2 1 1 3 2 1 1 1 \n",
    "\n",
    "\"\"\"\n",
    "# def adapterJolt2new(jolts):\n",
    "#     jolts += [0, max(jolts) + 3]\n",
    "#     jolts.sort()\n",
    "#     print(jolts)\n",
    "#     res = [0] * len(jolts)\n",
    "#     for i in range(0, len(jolts)):\n",
    "#         j = i + 1\n",
    "#         curr = jolts[i]\n",
    "#         while j < len(jolts) and curr + 3 >= jolts[j]:\n",
    "#             if jolts[j] - 1 == curr:\n",
    "#                 res[i] += 1\n",
    "#             if jolts[j] - 2 == curr:\n",
    "#                 res[i] += 1\n",
    "#             if jolts[j] - 3 == curr:\n",
    "#                 res[i] += 1\n",
    "#             j += 1\n",
    "#     return res\n",
    "\n",
    "\n",
    "def adapterJolt2new(jolts, i, target, m):\n",
    "    \n",
    "    if i in m:\n",
    "        return m[i]\n",
    "    \n",
    "    res = 0\n",
    "    j = i + 1\n",
    "    if i >= len(jolts):\n",
    "        return 0\n",
    "    curr = jolts[i]\n",
    "    if jolts[i] == target:\n",
    "            res += 1\n",
    "    while j < len(jolts) and curr + 3 >= jolts[j]:\n",
    "        if jolts[j] - 1 == curr:\n",
    "            res = res +  adapterJolt2new(jolts, j, target, m)\n",
    "        if jolts[j] - 2 == curr:\n",
    "            res = res +  adapterJolt2new(jolts, j, target, m)\n",
    "        if jolts[j] - 3 == curr:\n",
    "            res = res +  adapterJolt2new(jolts, j, target, m)\n",
    "        j += 1\n",
    "    m[i] = res\n",
    "    return res\n",
    "# jolts += [0, max(jolts) + 3]\n",
    "# jolts = [0, 1, 4, 5, 6, 7, 10, 11, 12, 15, 16, 19, 22]\n",
    "# test(jolts, 0, 22)\n",
    "\n",
    "\n",
    "# \"\"\"\n",
    "# [0, 1, 1, 1, 2, 3, 1, 1, 2, 1, 1, 1, 1]\n",
    "# \"\"\""
   ]
  },
  {
   "cell_type": "code",
   "execution_count": 10,
   "metadata": {},
   "outputs": [
    {
     "name": "stdout",
     "output_type": "stream",
     "text": [
      "{1: 71, 2: 0, 3: 32}\n",
      "2272\n",
      "0.0\n",
      "84627647627264\n",
      "1.0006427764892578\n"
     ]
    }
   ],
   "source": [
    "import os\n",
    "import time\n",
    "\n",
    "fileName = \"input.txt\" \n",
    "with open(os.path.join(os.path.abspath(''), fileName), 'r') as file:\n",
    "    lines = file.read().splitlines()\n",
    "    lines = [int(x) for x in lines]\n",
    "    res = {1 : 0,  2:0, 3 : 0}\n",
    "    start_time = time.time()\n",
    "    adpaterJoltNew(lines, res)\n",
    "    print(res[1] * (res[3]))\n",
    "    print((time.time() - start_time) * 1000)\n",
    "    \n",
    "    \n",
    "    start_time = time.time()\n",
    "    target = max(lines) + 3\n",
    "    lines += [0,target]\n",
    "    lines.sort()\n",
    "    print(adapterJolt2new(lines,0,target, {}))\n",
    "    print((time.time() - start_time) * 1000)\n"
   ]
  },
  {
   "cell_type": "code",
   "execution_count": null,
   "metadata": {},
   "outputs": [],
   "source": []
  }
 ],
 "metadata": {
  "kernelspec": {
   "display_name": "Python 3",
   "language": "python",
   "name": "python3"
  },
  "language_info": {
   "codemirror_mode": {
    "name": "ipython",
    "version": 3
   },
   "file_extension": ".py",
   "mimetype": "text/x-python",
   "name": "python",
   "nbconvert_exporter": "python",
   "pygments_lexer": "ipython3",
   "version": "3.8.5"
  }
 },
 "nbformat": 4,
 "nbformat_minor": 4
}
